{
 "cells": [
  {
   "cell_type": "markdown",
   "metadata": {},
   "source": [
    "# Derivatives of BERT"
   ]
  },
  {
   "cell_type": "code",
   "execution_count": 1,
   "metadata": {},
   "outputs": [
    {
     "name": "stderr",
     "output_type": "stream",
     "text": [
      "/Library/Frameworks/Python.framework/Versions/3.12/lib/python3.12/site-packages/tqdm/auto.py:21: TqdmWarning: IProgress not found. Please update jupyter and ipywidgets. See https://ipywidgets.readthedocs.io/en/stable/user_install.html\n",
      "  from .autonotebook import tqdm as notebook_tqdm\n"
     ]
    }
   ],
   "source": [
    "from transformers import pipeline"
   ]
  },
  {
   "cell_type": "code",
   "execution_count": 3,
   "metadata": {},
   "outputs": [
    {
     "name": "stderr",
     "output_type": "stream",
     "text": [
      "Some weights of the model checkpoint at bert-base-uncased were not used when initializing BertForMaskedLM: ['bert.pooler.dense.bias', 'bert.pooler.dense.weight', 'cls.seq_relationship.bias', 'cls.seq_relationship.weight']\n",
      "- This IS expected if you are initializing BertForMaskedLM from the checkpoint of a model trained on another task or with another architecture (e.g. initializing a BertForSequenceClassification model from a BertForPreTraining model).\n",
      "- This IS NOT expected if you are initializing BertForMaskedLM from the checkpoint of a model that you expect to be exactly identical (initializing a BertForSequenceClassification model from a BertForSequenceClassification model).\n",
      "Device set to use mps:0\n"
     ]
    },
    {
     "name": "stdout",
     "output_type": "stream",
     "text": [
      "<class 'transformers.models.bert.modeling_bert.BertForMaskedLM'>\n"
     ]
    }
   ],
   "source": [
    "nlp = pipeline(\"fill-mask\", model=\"bert-base-uncased\")\n",
    "\n",
    "print(type(nlp.model))"
   ]
  },
  {
   "cell_type": "code",
   "execution_count": 5,
   "metadata": {},
   "outputs": [
    {
     "name": "stdout",
     "output_type": "stream",
     "text": [
      "If you don't *** at the sign, you will get a ticket.\n",
      "Token: look.  |  Score: 84.78%\n",
      "Token: stop.  |  Score: 10.96%\n",
      "Token: stare.  |  Score: 0.64%\n",
      "Token: glance.  |  Score: 0.29%\n",
      "Token: appear.  |  Score: 0.21%\n"
     ]
    }
   ],
   "source": [
    "preds = nlp(f\"If you don't [MASK] at the sign, you will get a ticket.\")\n",
    "\n",
    "print(\"If you don't *** at the sign, you will get a ticket.\")\n",
    "\n",
    "for p in preds:\n",
    "    print(f\"Token: {p['token_str']}.  |  Score: {100*p['score']:,.2f}%\")"
   ]
  },
  {
   "cell_type": "markdown",
   "metadata": {},
   "source": [
    "## Doing same task with RoBERTa base"
   ]
  },
  {
   "cell_type": "code",
   "execution_count": 8,
   "metadata": {},
   "outputs": [
    {
     "name": "stderr",
     "output_type": "stream",
     "text": [
      "Device set to use mps:0\n"
     ]
    },
    {
     "name": "stdout",
     "output_type": "stream",
     "text": [
      "<class 'transformers.models.roberta.modeling_roberta.RobertaForMaskedLM'>\n",
      "If you don't *** at the sign, you will get a ticket.\n",
      "Token:  stop.  |  Score: 46.29%\n",
      "Token:  look.  |  Score: 39.91%\n",
      "Token:  stay.  |  Score: 2.72%\n",
      "Token:  stand.  |  Score: 1.51%\n",
      "Token:  pay.  |  Score: 0.86%\n"
     ]
    }
   ],
   "source": [
    "roberta_nlp = pipeline(\"fill-mask\", model=\"roberta-base\")\n",
    "\n",
    "print(type(roberta_nlp.model))\n",
    "\n",
    "preds = roberta_nlp(\"If you don't <mask> at the sign, you will get a ticket.\")\n",
    "\n",
    "print(\"If you don't *** at the sign, you will get a ticket.\")\n",
    "\n",
    "for p in preds:\n",
    "    print(f\"Token: {p['token_str']}.  |  Score: {100*p['score']:,.2f}%\")\n"
   ]
  },
  {
   "cell_type": "markdown",
   "metadata": {},
   "source": [
    "## Doing same task with Distil-RoBERTa"
   ]
  },
  {
   "cell_type": "code",
   "execution_count": 12,
   "metadata": {},
   "outputs": [
    {
     "name": "stderr",
     "output_type": "stream",
     "text": [
      "Some weights of the model checkpoint at distilroberta-base were not used when initializing RobertaForMaskedLM: ['roberta.pooler.dense.bias', 'roberta.pooler.dense.weight']\n",
      "- This IS expected if you are initializing RobertaForMaskedLM from the checkpoint of a model trained on another task or with another architecture (e.g. initializing a BertForSequenceClassification model from a BertForPreTraining model).\n",
      "- This IS NOT expected if you are initializing RobertaForMaskedLM from the checkpoint of a model that you expect to be exactly identical (initializing a BertForSequenceClassification model from a BertForSequenceClassification model).\n",
      "Device set to use mps:0\n"
     ]
    },
    {
     "name": "stdout",
     "output_type": "stream",
     "text": [
      "<class 'transformers.models.roberta.modeling_roberta.RobertaForMaskedLM'>\n",
      "If you don't *** at the sign, you will get a ticket.\n",
      "Token:  stop.  |  Score: 43.30%\n",
      "Token:  arrive.  |  Score: 5.89%\n",
      "Token:  park.  |  Score: 5.04%\n",
      "Token:  look.  |  Score: 4.78%\n",
      "Token:  stare.  |  Score: 3.85%\n"
     ]
    }
   ],
   "source": [
    "distilroberta_nlp = pipeline(\"fill-mask\", model=\"distilroberta-base\")\n",
    "\n",
    "print(type(distilroberta_nlp.model))\n",
    "\n",
    "preds = distilroberta_nlp(\"If you don't <mask> at the sign, you will get a ticket.\")\n",
    "\n",
    "print(\"If you don't *** at the sign, you will get a ticket.\")\n",
    "\n",
    "for p in preds:\n",
    "    print(f\"Token: {p['token_str']}.  |  Score: {100*p['score']:,.2f}%\")"
   ]
  },
  {
   "cell_type": "markdown",
   "metadata": {},
   "source": [
    "## Doing same task with DistilBERT"
   ]
  },
  {
   "cell_type": "code",
   "execution_count": 15,
   "metadata": {},
   "outputs": [
    {
     "name": "stderr",
     "output_type": "stream",
     "text": [
      "Device set to use mps:0\n"
     ]
    },
    {
     "name": "stdout",
     "output_type": "stream",
     "text": [
      "<class 'transformers.models.distilbert.modeling_distilbert.DistilBertForMaskedLM'>\n",
      "If you don't *** at the sign, you will get a ticket.\n",
      "Token: look.  |  Score: 57.85%\n",
      "Token: stop.  |  Score: 8.69%\n",
      "Token: glance.  |  Score: 4.74%\n",
      "Token: arrive.  |  Score: 2.14%\n",
      "Token: appear.  |  Score: 1.74%\n"
     ]
    }
   ],
   "source": [
    "distil_nlp = pipeline(\"fill-mask\", model=\"distilbert-base-cased\")\n",
    "\n",
    "print(type(distil_nlp.model))\n",
    "\n",
    "preds = distil_nlp(\"If you don't [MASK] at the sign, you will get a ticket.\")\n",
    "\n",
    "print(\"If you don't *** at the sign, you will get a ticket.\")\n",
    "\n",
    "for p in preds:\n",
    "    print(f\"Token: {p['token_str']}.  |  Score: {100*p['score']:,.2f}%\")"
   ]
  }
 ],
 "metadata": {
  "kernelspec": {
   "display_name": "Python 3",
   "language": "python",
   "name": "python3"
  },
  "language_info": {
   "codemirror_mode": {
    "name": "ipython",
    "version": 3
   },
   "file_extension": ".py",
   "mimetype": "text/x-python",
   "name": "python",
   "nbconvert_exporter": "python",
   "pygments_lexer": "ipython3",
   "version": "3.12.6"
  }
 },
 "nbformat": 4,
 "nbformat_minor": 2
}
