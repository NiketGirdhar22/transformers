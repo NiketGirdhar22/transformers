{
 "cells": [
  {
   "cell_type": "markdown",
   "metadata": {},
   "source": [
    "# Introduction to Pytorch"
   ]
  },
  {
   "cell_type": "code",
   "execution_count": 1,
   "metadata": {},
   "outputs": [],
   "source": [
    "import torch"
   ]
  },
  {
   "cell_type": "code",
   "execution_count": 3,
   "metadata": {},
   "outputs": [
    {
     "name": "stdout",
     "output_type": "stream",
     "text": [
      "Shape of tensor([0]) is torch.Size([1]) and dimension is 1\n"
     ]
    }
   ],
   "source": [
    "# 1-dimensional tensor\n",
    "\n",
    "one_d_tensor = torch.LongTensor([0])\n",
    "print(f'Shape of {one_d_tensor} is {one_d_tensor.shape} and dimension is {one_d_tensor.dim()}')"
   ]
  },
  {
   "cell_type": "code",
   "execution_count": 4,
   "metadata": {},
   "outputs": [
    {
     "name": "stdout",
     "output_type": "stream",
     "text": [
      "Shape of tensor([0, 1, 2, 3, 4, 5]) is torch.Size([6]) and dimension is 1\n"
     ]
    }
   ],
   "source": [
    "# another 1-dimetional tensor\n",
    "\n",
    "one_d_tensor = torch.LongTensor([0,1,2,3,4,5])\n",
    "print(f'Shape of {one_d_tensor} is {one_d_tensor.shape} and dimension is {one_d_tensor.dim()}')"
   ]
  },
  {
   "cell_type": "code",
   "execution_count": 14,
   "metadata": {},
   "outputs": [
    {
     "name": "stdout",
     "output_type": "stream",
     "text": [
      "torch.Size([2, 3])\n",
      "Shape of tensor([[0, 1, 2],\n",
      "        [3, 4, 5]]) is torch.Size([2, 3]) and dimension is 2\n"
     ]
    }
   ],
   "source": [
    "# 2-dimentional tensor\n",
    "\n",
    "two_d_tensor = torch.LongTensor([[0,1,2],[3,4,5]])\n",
    "print(two_d_tensor.shape)\n",
    "\n",
    "print(f'Shape of {two_d_tensor} is {two_d_tensor.shape} and dimension is {two_d_tensor.dim()}')\n"
   ]
  },
  {
   "cell_type": "code",
   "execution_count": 15,
   "metadata": {},
   "outputs": [
    {
     "name": "stdout",
     "output_type": "stream",
     "text": [
      "torch.Size([3, 3])\n",
      "Shape of tensor([[0, 1, 2],\n",
      "        [3, 4, 5],\n",
      "        [6, 7, 8]]) is torch.Size([3, 3]) and dimension is 2\n"
     ]
    }
   ],
   "source": [
    "two_d_tensor = torch.LongTensor([[0,1,2],[3,4,5],[6,7,8]])\n",
    "print(two_d_tensor.shape)\n",
    "\n",
    "print(f'Shape of {two_d_tensor} is {two_d_tensor.shape} and dimension is {two_d_tensor.dim()}')"
   ]
  },
  {
   "cell_type": "markdown",
   "metadata": {},
   "source": [
    "**Note:** Here though the size of the tensor changes to 3,3 but the dimension still remains 2 as the size comes from number of rows and columns but that if irrelavant in case of dimentions."
   ]
  },
  {
   "cell_type": "code",
   "execution_count": 23,
   "metadata": {},
   "outputs": [
    {
     "name": "stdout",
     "output_type": "stream",
     "text": [
      "Shape of tensor([0, 1, 2]) is torch.Size([3]) and dimension is 1\n",
      "Shape of tensor([[0, 1, 2]]) is torch.Size([1, 3]) and dimension is 2\n"
     ]
    }
   ],
   "source": [
    "# converting a 1-dimentional tensor to 2-dimentional tensor\n",
    "\n",
    "one_d_tensor = torch.LongTensor([0,1,2])\n",
    "print(f'Shape of {one_d_tensor} is {one_d_tensor.shape} and dimension is {one_d_tensor.dim()}')\n",
    "\n",
    "# to convert this 1-d to 2-d tensor we force a dimention in the front\n",
    "# this is a helpful technique in case we want to force a batch dimention if we want to predict a single example\n",
    "\n",
    "two_d_tensor = one_d_tensor.unsqueeze(0) # 0 means adding a new dimension at the front (at index 0), creating a batch dimension.\n",
    "print(f'Shape of {two_d_tensor} is {two_d_tensor.shape} and dimension is {two_d_tensor.dim()}')"
   ]
  },
  {
   "cell_type": "markdown",
   "metadata": {},
   "source": [
    "**Note:** This converts the tensor to 2D but what it represents:  1,3 shows the data point contains 3 values - [1,2,3] and that there is just 1 data point in the tensor."
   ]
  },
  {
   "cell_type": "code",
   "execution_count": 22,
   "metadata": {},
   "outputs": [
    {
     "name": "stdout",
     "output_type": "stream",
     "text": [
      "Shape of tensor([0, 1, 2]) is torch.Size([3]) and dimension is 1\n",
      "Shape of tensor([[0],\n",
      "        [1],\n",
      "        [2]]) is torch.Size([3, 1]) and dimension is 2\n"
     ]
    }
   ],
   "source": [
    "# converting a 1-dimentional tensor to 2-dimentional tensor\n",
    "\n",
    "one_d_tensor = torch.LongTensor([0,1,2])\n",
    "print(f'Shape of {one_d_tensor} is {one_d_tensor.shape} and dimension is {one_d_tensor.dim()}')\n",
    "\n",
    "# to convert this 1-d to 2-d tensor we force a dimention in the front\n",
    "# this is a helpful technique in case we want to force a batch dimention if we want to predict a single example\n",
    "\n",
    "two_d_tensor = one_d_tensor.unsqueeze(1) # 1 means adding a new dimension at the location 1, which makes the tensor 2D with 3 rows and 1 column\n",
    "print(f'Shape of {two_d_tensor} is {two_d_tensor.shape} and dimension is {two_d_tensor.dim()}')"
   ]
  },
  {
   "cell_type": "code",
   "execution_count": 26,
   "metadata": {},
   "outputs": [
    {
     "data": {
      "text/plain": [
       "array([[0, 1, 2]])"
      ]
     },
     "execution_count": 26,
     "metadata": {},
     "output_type": "execute_result"
    }
   ],
   "source": [
    "# Convert pytorch to numpy\n",
    "\n",
    "two_d_tensor.numpy()"
   ]
  },
  {
   "cell_type": "code",
   "execution_count": 29,
   "metadata": {},
   "outputs": [
    {
     "data": {
      "text/plain": [
       "array([[0, 1, 2]])"
      ]
     },
     "execution_count": 29,
     "metadata": {},
     "output_type": "execute_result"
    }
   ],
   "source": [
    "# convert from pytorch to numpy with detach which removes a tensor from a computation graph\n",
    "\n",
    "two_d_tensor.detach().numpy()"
   ]
  }
 ],
 "metadata": {
  "kernelspec": {
   "display_name": "Python 3",
   "language": "python",
   "name": "python3"
  },
  "language_info": {
   "codemirror_mode": {
    "name": "ipython",
    "version": 3
   },
   "file_extension": ".py",
   "mimetype": "text/x-python",
   "name": "python",
   "nbconvert_exporter": "python",
   "pygments_lexer": "ipython3",
   "version": "3.12.6"
  }
 },
 "nbformat": 4,
 "nbformat_minor": 2
}
